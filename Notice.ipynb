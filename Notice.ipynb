{
 "cells": [
  {
   "cell_type": "code",
   "execution_count": 3,
   "metadata": {},
   "outputs": [],
   "source": [
    "from tkinter import *\n",
    "from tkinter import ttk, messagebox\n",
    "from PIL import Image,ImageTk\n",
    "from tkinter import ttk\n",
    "import pymysql \n",
    "class Student:\n",
    "    def __init__(self,root):\n",
    "        self.root=root\n",
    "        self.root.title('My Profile')\n",
    "        self.root.geometry (\"1350x700+0+0\")\n",
    "        self.root.config(bg='white')\n",
    "        self.root.iconbitmap('E:\\Jupyter_Codes\\project\\icon.ico')\n",
    "        #==Bg Image===\n",
    "        \n",
    "        self.bg=ImageTk.PhotoImage(file=\"Images/low.jpg\")\n",
    "        bg=Label(self.root,image=self.bg).place(x=0,y=0,width=1500)\n",
    "        \n",
    "        title=Label(self.root,text=\"Notices\",bd=10,relief=GROOVE,font=('times new roman',40,'bold'),bg='black',fg='white')\n",
    "        title.pack(side=TOP,fill=X)\n",
    "        \n",
    "        frame1=Frame(self.root,bg='white')\n",
    "        frame1.place(x=100,y=150,width=1150,height=438)\n",
    "        scroll_x=Scrollbar(frame1,orient='horizontal')\n",
    "        scroll_y=Scrollbar(frame1,orient='vertical')\n",
    "        \n",
    "        scroll_x.pack(side=BOTTOM,fill=X)\n",
    "        scroll_y.pack(side=RIGHT,fill=Y)\n",
    "        btn_admin=Button(frame1, text=\"Date: 13/10/2020 Semester Final\",font=('times new roman',18,),command=self.noti,justify=CENTER,cursor='hand2',bg='red',bd='1',fg='black').place(x=130,y=50)\n",
    "        btn_admin=Button(frame1, text=\"Date: 17/09/2020 Notice for Graduate Students\",font=('times new roman',18,),justify=CENTER,cursor='hand2',bg='red',bd='1',fg='black').place(x=130,y=100)\n",
    "        btn_admin=Button(frame1, text=\"Date: 28/08/2020 Regarding Mid Break\",font=('times new roman',18,),justify=CENTER,cursor='hand2',bg='red',bd='1',fg='black').place(x=130,y=150)\n",
    "        btn_admin=Button(frame1, text=\"Date: 13/08/2020 Hall Vacancy\",font=('times new roman',18,),justify=CENTER,cursor='hand2',bg='red',bd='1',fg='black').place(x=130,y=200)\n",
    "        btn_admin=Button(frame1, text=\"Date: 25/07/2020 3rd Semester Result\",font=('times new roman',18,),justify=CENTER,cursor='hand2',bg='red',bd='1',fg='black').place(x=130,y=250)\n",
    "        btn_admin=Button(frame1, text=\"Date: 20/07/2020 Eid Ul Adha\",font=('times new roman',18,),justify=CENTER,cursor='hand2',bg='red',bd='1',fg='black').place(x=130,y=300)\n",
    "        btn_admin=Button(frame1, text=\"Date: 30/06/2020 Technocracy\",font=('times new roman',18,),justify=CENTER,cursor='hand2',bg='red',bd='1',fg='black').place(x=130,y=350)\n",
    "        btn_reg=Button(frame1, text=\"Back\",font=('times new roman',12,),cursor='hand2',command=self.register_window,bg='white',bd='0',fg='black').place(x=0,y=0)\n",
    "        \n",
    "    def register_window(self):\n",
    "        self.root.destroy()\n",
    "        %run Student_Main.ipynb\n",
    "    def noti(self):\n",
    "        self.root.destroy()\n",
    "        %run popnoti.ipynb \n",
    "root=Tk()\n",
    "obj=Student(root)\n",
    "root.mainloop()"
   ]
  },
  {
   "cell_type": "code",
   "execution_count": null,
   "metadata": {},
   "outputs": [],
   "source": []
  }
 ],
 "metadata": {
  "kernelspec": {
   "display_name": "Python 3",
   "language": "python",
   "name": "python3"
  },
  "language_info": {
   "codemirror_mode": {
    "name": "ipython",
    "version": 3
   },
   "file_extension": ".py",
   "mimetype": "text/x-python",
   "name": "python",
   "nbconvert_exporter": "python",
   "pygments_lexer": "ipython3",
   "version": "3.8.1"
  }
 },
 "nbformat": 4,
 "nbformat_minor": 4
}
