{
 "cells": [
  {
   "cell_type": "code",
   "execution_count": 6,
   "metadata": {},
   "outputs": [],
   "source": [
    "from tkinter import *\n",
    "from tkinter import ttk, messagebox\n",
    "from PIL import Image,ImageTk\n",
    "from tkinter import ttk\n",
    "import pymysql \n",
    "class Student:\n",
    "    def __init__(self,root):\n",
    "        self.root=root\n",
    "        self.root.title('My Profile')\n",
    "        self.root.geometry (\"720x480+0+0\")\n",
    "        self.root.config(bg='white')\n",
    "        self.root.iconbitmap('E:\\Jupyter_Codes\\project\\icon.ico')\n",
    "        #==Bg Image===\n",
    "        \n",
    "        self.bg=ImageTk.PhotoImage(file=\"Images/low.jpg\")\n",
    "        bg=Label(self.root,image=self.bg).place(x=0,y=0,width=1500)\n",
    "        \n",
    "        title=Label(self.root,text=\"Results\",bd=10,relief=GROOVE,font=('times new roman',40,'bold'),bg='black',fg='white')\n",
    "        title.pack(side=TOP,fill=X)\n",
    "        \n",
    "        frame1=Frame(self.root,bg='white')\n",
    "        frame1.place(x=100,y=150,width=480,height=270)\n",
    "        \n",
    "        \n",
    "        \n",
    "        btn_admin=Button(frame1, text=\"CT-1\",font=('times new roman',18,),command=self.result,justify=CENTER,cursor='hand2',bg='red',bd='1',fg='black').place(x=130,y=50)\n",
    "        btn_admin=Button(frame1, text=\"CT-2\",font=('times new roman',18,),justify=CENTER,cursor='hand2',bg='red',bd='1',fg='black').place(x=130,y=100)\n",
    "        btn_admin=Button(frame1, text=\"CT-3\",font=('times new roman',18,),justify=CENTER,cursor='hand2',bg='red',bd='1',fg='black').place(x=130,y=150)\n",
    "        btn_admin=Button(frame1, text=\"CT-4\",font=('times new roman',18,),justify=CENTER,cursor='hand2',bg='red',bd='1',fg='black').place(x=130,y=200)\n",
    "       \n",
    "        btn_reg=Button(frame1, text=\"Back\",font=('times new roman',12,),cursor='hand2',command=self.Result,bg='white',bd='0',fg='black').place(x=0,y=0)\n",
    "    def result(self):\n",
    "        self.root.destroy()\n",
    "        %run ct.ipynb\n",
    "        \n",
    "    def Result(self):\n",
    "        self.root.destroy()\n",
    "        %run Result.ipynb\n",
    "        \n",
    "root=Tk()\n",
    "obj=Student(root)\n",
    "root.mainloop()"
   ]
  },
  {
   "cell_type": "code",
   "execution_count": null,
   "metadata": {},
   "outputs": [],
   "source": []
  }
 ],
 "metadata": {
  "kernelspec": {
   "display_name": "Python 3",
   "language": "python",
   "name": "python3"
  },
  "language_info": {
   "codemirror_mode": {
    "name": "ipython",
    "version": 3
   },
   "file_extension": ".py",
   "mimetype": "text/x-python",
   "name": "python",
   "nbconvert_exporter": "python",
   "pygments_lexer": "ipython3",
   "version": "3.8.1"
  }
 },
 "nbformat": 4,
 "nbformat_minor": 4
}
