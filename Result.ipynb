{
 "cells": [
  {
   "cell_type": "code",
   "execution_count": 1,
   "metadata": {},
   "outputs": [],
   "source": [
    "from tkinter import *\n",
    "from tkinter import ttk, messagebox\n",
    "from PIL import Image,ImageTk\n",
    "from tkinter import ttk\n",
    "import pymysql \n",
    "class Student:\n",
    "    def __init__(self,root):\n",
    "        self.root=root\n",
    "        self.root.title('Results')\n",
    "        self.root.geometry (\"1350x700+0+0\")\n",
    "        self.root.config(bg='white')\n",
    "        self.root.iconbitmap('E:\\Jupyter_Codes\\project\\icon.ico')\n",
    "        #==Bg Image===\n",
    "        \n",
    "        self.bg=ImageTk.PhotoImage(file=\"Images/low.jpg\")\n",
    "        bg=Label(self.root,image=self.bg).place(x=0,y=0,width=1500)\n",
    "        \n",
    "        title=Label(self.root,text=\"Results\",bd=10,relief=GROOVE,font=('times new roman',40,'bold'),bg='black',fg='white')\n",
    "        title.pack(side=TOP,fill=X)\n",
    "        \n",
    "        frame1=Frame(self.root,bg='white')\n",
    "        frame1.place(x=100,y=150,width=750,height=438)\n",
    "        \n",
    "        \n",
    "        \n",
    "        btn_admin=Button(frame1, text=\"ECE 2205\",font=('times new roman',18,),command=self.ece_2205,justify=CENTER,cursor='hand2',bg='red',bd='1',fg='black').place(x=130,y=50)\n",
    "        btn_admin=Button(frame1, text=\"ECE 2206\",font=('times new roman',18,),justify=CENTER,cursor='hand2',bg='red',bd='1',fg='black').place(x=130,y=100)\n",
    "        btn_admin=Button(frame1, text=\"ECE 2213\",font=('times new roman',18,),justify=CENTER,cursor='hand2',bg='red',bd='1',fg='black').place(x=130,y=150)\n",
    "        btn_admin=Button(frame1, text=\"ECE 2214\",font=('times new roman',18,),justify=CENTER,cursor='hand2',bg='red',bd='1',fg='black').place(x=130,y=200)\n",
    "        btn_admin=Button(frame1, text=\"ECE 2215\",font=('times new roman',18,),justify=CENTER,cursor='hand2',bg='red',bd='1',fg='black').place(x=130,y=250)\n",
    "        btn_admin=Button(frame1, text=\"ECE 2216\",font=('times new roman',18,),justify=CENTER,cursor='hand2',bg='red',bd='1',fg='black').place(x=130,y=300)\n",
    "        btn_admin=Button(frame1, text=\"Math 2217\",font=('times new roman',18,),justify=CENTER,cursor='hand2',bg='red',bd='1',fg='black').place(x=130,y=350)\n",
    "        btn_admin=Button(frame1, text=\"Hum 2217\",font=('times new roman',18,),justify=CENTER,cursor='hand2',bg='red',bd='1',fg='black').place(x=400,y=50)\n",
    "        btn_admin=Button(frame1, text=\"ECE 2200\",font=('times new roman',18,),justify=CENTER,cursor='hand2',bg='red',bd='1',fg='black').place(x=400,y=100)\n",
    "        btn_reg=Button(frame1, text=\"Back\",font=('times new roman',12,),cursor='hand2',command=self.register_window,bg='white',bd='0',fg='black').place(x=0,y=0)\n",
    "    def ece_2205(self):\n",
    "        self.root.destroy()\n",
    "        %run result_ece_2205.ipynb\n",
    "        \n",
    "    def register_window(self):\n",
    "        self.root.destroy()\n",
    "        %run Student_Main.ipynb \n",
    "root=Tk()\n",
    "obj=Student(root)\n",
    "root.mainloop()"
   ]
  },
  {
   "cell_type": "code",
   "execution_count": null,
   "metadata": {},
   "outputs": [],
   "source": []
  }
 ],
 "metadata": {
  "kernelspec": {
   "display_name": "Python 3",
   "language": "python",
   "name": "python3"
  },
  "language_info": {
   "codemirror_mode": {
    "name": "ipython",
    "version": 3
   },
   "file_extension": ".py",
   "mimetype": "text/x-python",
   "name": "python",
   "nbconvert_exporter": "python",
   "pygments_lexer": "ipython3",
   "version": "3.8.1"
  }
 },
 "nbformat": 4,
 "nbformat_minor": 4
}
