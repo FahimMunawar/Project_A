{
 "cells": [
  {
   "cell_type": "code",
   "execution_count": 1,
   "metadata": {},
   "outputs": [],
   "source": [
    "from tkinter import *\n",
    "from PIL import ImageTk,ImageDraw\n",
    "from tkinter import ttk, messagebox\n",
    "import pymysql\n",
    "class login:\n",
    "    def __init__(self,root):\n",
    "        self.root=root\n",
    "        self.root.title(\"Login Window\")\n",
    "        self.root.geometry (\"1350x700+0+0\")\n",
    "        self.root.config(bg='black')\n",
    "        self.root.iconbitmap('E:\\Jupyter_Codes\\project\\icon.ico')\n",
    "        \n",
    "        self.row_var=StringVar()\n",
    "        #==Bg Image===\n",
    "        \n",
    "        self.bg=ImageTk.PhotoImage(file=\"Images/low.jpg\")\n",
    "        bg=Label(self.root,image=self.bg).place(x=0,y=0,width=1500)\n",
    "        #==Left Image===\n",
    "        \n",
    "        self.left=ImageTk.PhotoImage(file=\"Images/project.png\")\n",
    "        left=Label(self.root,image=self.left).place(x=200,y=150,width=500,height=438)\n",
    "        \n",
    "        #==Login Frame==\n",
    "        \n",
    "        frame1=Frame(self.root,bg='white')\n",
    "        frame1.place(x=700,y=150,width=500,height=438)\n",
    "        \n",
    "        title=Label(frame1, text=\"Welcome\",font=('times new roman',30,'bold'),bg='white',fg='blue').place(x=130,y=30)\n",
    "        \n",
    "        btn_admin=Button(frame1, text=\"My Profile\",font=('times new roman',18,),command=self.profile,justify=CENTER,cursor='hand2',bg='red',bd='1',fg='black').place(x=130,y=130)\n",
    "        btn_admin=Button(frame1, text=\"Attendance\",font=('times new roman',18,),justify=CENTER,cursor='hand2',bg='red',bd='1',fg='black').place(x=130,y=180)\n",
    "        btn_admin=Button(frame1, text=\"Results    \",font=('times new roman',18,),command=self.result,justify=CENTER,cursor='hand2',bg='red',bd='1',fg='black').place(x=130,y=230)\n",
    "        btn_admin=Button(frame1, text=\"Notice     \",font=('times new roman',18,),command=self.notice,justify=CENTER,cursor='hand2',bg='red',bd='1',fg='black').place(x=130,y=280)\n",
    "        btn_admin=Button(frame1, text=\"Sign Out     \",font=('times new roman',18,),command=self.new_window,justify=CENTER,cursor='hand2',bg='red',bd='1',fg='black').place(x=130,y=330)\n",
    "    def notice(self):\n",
    "        self.root.destroy()\n",
    "        %run Notice.ipynb\n",
    "    def result(self):\n",
    "        self.root.destroy()\n",
    "        %run Result.ipynb\n",
    "\n",
    "    def profile(self):\n",
    "        self.root.destroy()\n",
    "        %run Profile.ipynb\n",
    "        \n",
    "    def new_window(self):\n",
    "        self.root.destroy()\n",
    "        %run LoginAs.ipynb\n",
    "        \n",
    "    def noti(self):\n",
    "        self.root.destroy()\n",
    "        %run pop.ipynb  \n",
    "        \n",
    "        \n",
    "root=Tk()\n",
    "obj=login(root)\n",
    "root.mainloop()\n",
    "\n",
    "        "
   ]
  },
  {
   "cell_type": "code",
   "execution_count": null,
   "metadata": {},
   "outputs": [],
   "source": []
  }
 ],
 "metadata": {
  "kernelspec": {
   "display_name": "Python 3",
   "language": "python",
   "name": "python3"
  },
  "language_info": {
   "codemirror_mode": {
    "name": "ipython",
    "version": 3
   },
   "file_extension": ".py",
   "mimetype": "text/x-python",
   "name": "python",
   "nbconvert_exporter": "python",
   "pygments_lexer": "ipython3",
   "version": "3.8.1"
  }
 },
 "nbformat": 4,
 "nbformat_minor": 4
}
