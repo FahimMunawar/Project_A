{
 "cells": [
  {
   "cell_type": "code",
   "execution_count": 26,
   "metadata": {},
   "outputs": [],
   "source": [
    "from tkinter import *\n",
    "from PIL import ImageTk,ImageDraw\n",
    "from tkinter import ttk, messagebox\n",
    "import pymysql\n",
    "class login:\n",
    "    def __init__(self,root):\n",
    "        self.root=root\n",
    "        self.root.title(\"Login Window\")\n",
    "        self.root.geometry (\"700x800+0+0\")\n",
    "        self.root.config(bg='black')\n",
    "        self.root.iconbitmap('E:\\Jupyter_Codes\\project\\icon.ico')\n",
    "        #==Bg Image===\n",
    "        \n",
    "        self.bg=ImageTk.PhotoImage(file=\"Images/low.jpg\")\n",
    "        bg=Label(self.root,image=self.bg).place(x=0,y=0,width=1500)\n",
    "        #==Left Image===\n",
    "        \n",
    "        self.left=ImageTk.PhotoImage(file=\"notice/notice.png\")\n",
    "        left=Label(self.root,image=self.left).place(x=35,y=0,width=540,height=748)\n",
    "        \n",
    "        #==Login Frame==\n",
    "        \n",
    "        frame1=Frame(self.root,bg='white')\n",
    "        frame1.place(x=0,y=0,width=40,height=30)\n",
    "        \n",
    "        \n",
    "        btn_reg=Button(frame1, text=\"Back\",font=('times new roman',12,),cursor='hand2',command=self.register_window,bg='white',bd='0',fg='black').place(x=0,y=0)\n",
    "\n",
    "    def register_window(self):\n",
    "        self.root.destroy()\n",
    "        %run result_ece_2205.ipynb    \n",
    "        \n",
    "        \n",
    "        \n",
    "        \n",
    "        \n",
    "        \n",
    "root=Tk()\n",
    "obj=login(root)\n",
    "root.mainloop()"
   ]
  },
  {
   "cell_type": "code",
   "execution_count": null,
   "metadata": {},
   "outputs": [],
   "source": []
  }
 ],
 "metadata": {
  "kernelspec": {
   "display_name": "Python 3",
   "language": "python",
   "name": "python3"
  },
  "language_info": {
   "codemirror_mode": {
    "name": "ipython",
    "version": 3
   },
   "file_extension": ".py",
   "mimetype": "text/x-python",
   "name": "python",
   "nbconvert_exporter": "python",
   "pygments_lexer": "ipython3",
   "version": "3.8.1"
  }
 },
 "nbformat": 4,
 "nbformat_minor": 4
}
